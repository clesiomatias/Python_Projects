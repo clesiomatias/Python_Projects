{
 "cells": [
  {
   "cell_type": "code",
   "execution_count": 42,
   "metadata": {},
   "outputs": [
    {
     "data": {
      "text/plain": [
       "[[5, 'SPADE'],\n",
       " [7, 'SPADE'],\n",
       " ['ACE', 'DIAMOND'],\n",
       " [7, 'HEART '],\n",
       " [9, 'HEART '],\n",
       " [4, 'HEART '],\n",
       " [2, 'DIAMOND'],\n",
       " [4, 'DIAMOND'],\n",
       " ['JACK', 'SPADE'],\n",
       " [8, 'SPADE'],\n",
       " [3, 'CLUB'],\n",
       " [8, 'DIAMOND'],\n",
       " [9, 'DIAMOND'],\n",
       " [6, 'CLUB'],\n",
       " ['ACE', 'HEART '],\n",
       " ['QUEEN', 'HEART '],\n",
       " [7, 'CLUB'],\n",
       " ['ACE', 'CLUB'],\n",
       " [9, 'CLUB'],\n",
       " [10, 'DIAMOND'],\n",
       " [3, 'SPADE'],\n",
       " [8, 'CLUB'],\n",
       " ['JACK', 'HEART '],\n",
       " [5, 'DIAMOND'],\n",
       " [5, 'CLUB'],\n",
       " [9, 'SPADE'],\n",
       " ['QUEEN', 'DIAMOND'],\n",
       " ['JACK', 'DIAMOND'],\n",
       " ['QUEEN', 'SPADE'],\n",
       " ['KING', 'DIAMOND'],\n",
       " ['QUEEN', 'CLUB'],\n",
       " [2, 'SPADE'],\n",
       " ['KING', 'SPADE'],\n",
       " ['KING', 'HEART '],\n",
       " [2, 'HEART '],\n",
       " [10, 'SPADE'],\n",
       " ['KING', 'CLUB'],\n",
       " [6, 'SPADE'],\n",
       " [10, 'HEART '],\n",
       " [10, 'CLUB'],\n",
       " ['JACK', 'CLUB'],\n",
       " [4, 'CLUB'],\n",
       " [7, 'DIAMOND'],\n",
       " [3, 'DIAMOND'],\n",
       " [8, 'HEART '],\n",
       " ['ACE', 'SPADE'],\n",
       " [6, 'DIAMOND'],\n",
       " [3, 'HEART '],\n",
       " [2, 'CLUB'],\n",
       " [5, 'HEART '],\n",
       " [6, 'HEART '],\n",
       " [4, 'SPADE']]"
      ]
     },
     "execution_count": 42,
     "metadata": {},
     "output_type": "execute_result"
    }
   ],
   "source": [
    "from random import shuffle\n",
    "\n",
    "# define the card ranks, and suits\n",
    "ranks = [_ for _ in range(2, 11)] + ['JACK', 'QUEEN', 'KING', 'ACE']\n",
    "suits = ['SPADE', 'HEART ', 'DIAMOND', 'CLUB']\n",
    "\n",
    "def get_deck():\n",
    "    \"\"\"Return a new deck of cards.\"\"\"\n",
    "\n",
    "    return [[rank, suit] for rank in ranks for suit in suits]\n",
    "\n",
    "# get a deck of cards, and randomly shuffle it\n",
    "deck = get_deck()\n",
    "shuffle(deck)\n",
    "\n",
    "deck"
   ]
  },
  {
   "cell_type": "code",
   "execution_count": 54,
   "metadata": {},
   "outputs": [
    {
     "name": "stdout",
     "output_type": "stream",
     "text": [
      "1aaaaa2aaaaa3aaaaa4aaaaa5aaaaa6aaaaa7aaaaa8aaaaa9aaaaa10aaaaa11aaaaa12aaaaa13aaaaa14aaaaa15aaaaa16aaaaa17aaaaa18aaaaa19aaaaa20aaaaa21aaaaa22aaaaa23aaaaa24aaaaa25aaaaa26aaaaa27aaaaa28aaaaa29aaaaa30aaaaa31aaaaa32aaaaa33aaaaa34aaaaa35aaaaa36aaaaa37aaaaa38aaaaa39aaaaa40aaaaa41aaaaa42aaaaa43aaaaa44aaaaa45aaaaa46aaaaa47aaaaa48aaaaa49aaaaa50aaaaa51aaaaa52aaaaa53aaaaa54aaaaa55aaaaa56aaaaa57aaaaa58aaaaa59aaaaa60aaaaa61aaaaa62aaaaa63aaaaa64aaaaa65aaaaa66aaaaa67aaaaa68aaaaa69aaaaa70aaaaa71aaaaa72aaaaa73aaaaa74aaaaa75aaaaa76aaaaa77aaaaa78aaaaa79aaaaa80aaaaa81aaaaa82aaaaa83aaaaa84aaaaa85aaaaa86aaaaa87aaaaa88aaaaa89aaaaa90aaaaa91aaaaa92aaaaa93aaaaa94aaaaa95aaaaa96aaaaa97aaaaa98aaaaa99aaaaa"
     ]
    }
   ],
   "source": [
    "for item in range(1,100):\n",
    "#     print(item)\n",
    "    print(item, end=\"aaaaa\")\n",
    "    "
   ]
  },
  {
   "cell_type": "code",
   "execution_count": 49,
   "metadata": {},
   "outputs": [
    {
     "name": "stdout",
     "output_type": "stream",
     "text": [
      "20\n"
     ]
    }
   ],
   "source": [
    "from sys import stdout\n",
    "from time import sleep\n",
    "for i in range(20,1,-1):\n",
    "    stdout.write(\"\\r%d\" % i)\n",
    "    stdout.flush()\n",
    "    sleep(1)\n",
    "stdout.write(\"\\n\") # move the cursor to the next line"
   ]
  },
  {
   "cell_type": "code",
   "execution_count": 55,
   "metadata": {},
   "outputs": [
    {
     "name": "stdout",
     "output_type": "stream",
     "text": [
      "12345678910111213141516171819202122232425262728293031323334353637"
     ]
    },
    {
     "ename": "KeyboardInterrupt",
     "evalue": "",
     "output_type": "error",
     "traceback": [
      "\u001b[0;31m---------------------------------------------------------------------------\u001b[0m",
      "\u001b[0;31mKeyboardInterrupt\u001b[0m                         Traceback (most recent call last)",
      "\u001b[0;32m<ipython-input-55-f1d7a536c6cc>\u001b[0m in \u001b[0;36m<module>\u001b[0;34m\u001b[0m\n\u001b[1;32m      4\u001b[0m \u001b[0;34m\u001b[0m\u001b[0m\n\u001b[1;32m      5\u001b[0m     \u001b[0mprint\u001b[0m\u001b[0;34m(\u001b[0m\u001b[0mitem\u001b[0m\u001b[0;34m,\u001b[0m \u001b[0msep\u001b[0m\u001b[0;34m=\u001b[0m\u001b[0;34m' '\u001b[0m\u001b[0;34m,\u001b[0m \u001b[0mend\u001b[0m\u001b[0;34m=\u001b[0m\u001b[0;34m''\u001b[0m\u001b[0;34m,\u001b[0m \u001b[0mflush\u001b[0m\u001b[0;34m=\u001b[0m\u001b[0;32mTrue\u001b[0m\u001b[0;34m)\u001b[0m\u001b[0;34m\u001b[0m\u001b[0;34m\u001b[0m\u001b[0m\n\u001b[0;32m----> 6\u001b[0;31m     \u001b[0msleep\u001b[0m\u001b[0;34m(\u001b[0m\u001b[0;36m1\u001b[0m\u001b[0;34m)\u001b[0m\u001b[0;34m\u001b[0m\u001b[0;34m\u001b[0m\u001b[0m\n\u001b[0m",
      "\u001b[0;31mKeyboardInterrupt\u001b[0m: "
     ]
    }
   ],
   "source": [
    "for item in range(1,100):\n",
    "#     print(item)\n",
    "#     print(item, end=\"aaaaa\")\n",
    "    \n",
    "    print(item, sep=' ', end='', flush=True)\n",
    "    sleep(1)"
   ]
  },
  {
   "cell_type": "code",
   "execution_count": 57,
   "metadata": {},
   "outputs": [
    {
     "name": "stdout",
     "output_type": "stream",
     "text": [
      "teste\n"
     ]
    }
   ],
   "source": [
    "class Service(object):\n",
    "    data = []\n",
    "\n",
    "    def __init__(self, other_data):\n",
    "        self.other_data = other_data\n",
    "        \n",
    "d = Service(\"teste\")\n",
    "\n",
    "print (d.other_data)\n"
   ]
  },
  {
   "cell_type": "code",
   "execution_count": 69,
   "metadata": {},
   "outputs": [
    {
     "name": "stdout",
     "output_type": "stream",
     "text": [
      "I am number 0 in process 14911\n",
      "I am number 2 in process 14913\n",
      "I am number 1 in process 14912\n",
      "I am number 3 in process 14914\n",
      "I am number 4 in process 14915\n",
      "I am number 5 in process 14916\n",
      "I am number 6 in process 14917\n",
      "I am number 8 in process 14919\n",
      "I am number 9 in process 14920\n",
      "I am number 7 in process 14918\n",
      "[14911, 14912, 14913, 14914, 14915, 14916, 14917, 14918, 14919, 14920]\n"
     ]
    }
   ],
   "source": [
    "import multiprocessing\n",
    "from os import getpid\n",
    "from time import sleep\n",
    "\n",
    "def worker(procnum):\n",
    "    print (\"I am number %d in process %d\" % (procnum, getpid()))\n",
    "    sleep(5)\n",
    "    return getpid()\n",
    "\n",
    "if __name__ == '__main__':\n",
    "    pool = multiprocessing.Pool(processes = 10)\n",
    "    print(pool.map(worker, range(10)))"
   ]
  },
  {
   "cell_type": "code",
   "execution_count": 73,
   "metadata": {},
   "outputs": [
    {
     "name": "stdout",
     "output_type": "stream",
     "text": [
      "nthreads CpuThread CpuProcess IoThread IoProcess\n",
      "1.000000e+00 6.191730e-04 1.279283e-02 1.012209e+00 1.011820e+00\n",
      "2.000000e+00 1.929045e-03 2.522492e-02 1.002059e+00 1.021376e+00\n",
      "3.000000e+00 2.128839e-03 3.662920e-02 1.002204e+00 1.026107e+00\n"
     ]
    }
   ],
   "source": [
    "\n",
    "#!/usr/bin/env python3\n",
    "\n",
    "import multiprocessing\n",
    "import threading\n",
    "import time\n",
    "import sys\n",
    "\n",
    "def cpu_func(result, niters):\n",
    "    '''\n",
    "    A useless CPU bound function.\n",
    "    '''\n",
    "    for i in range(niters):\n",
    "        result = (result * result * i + 2 * result * i * i + 3) % 10000000\n",
    "    return result\n",
    "\n",
    "class CpuThread(threading.Thread):\n",
    "    def __init__(self, niters):\n",
    "        super().__init__()\n",
    "        self.niters = niters\n",
    "        self.result = 1\n",
    "    def run(self):\n",
    "        self.result = cpu_func(self.result, self.niters)\n",
    "\n",
    "class CpuProcess(multiprocessing.Process):\n",
    "    def __init__(self, niters):\n",
    "        super().__init__()\n",
    "        self.niters = niters\n",
    "        self.result = 1\n",
    "    def run(self):\n",
    "        self.result = cpu_func(self.result, self.niters)\n",
    "\n",
    "class IoThread(threading.Thread):\n",
    "    def __init__(self, sleep):\n",
    "        super().__init__()\n",
    "        self.sleep = sleep\n",
    "        self.result = self.sleep\n",
    "    def run(self):\n",
    "        time.sleep(self.sleep)\n",
    "\n",
    "class IoProcess(multiprocessing.Process):\n",
    "    def __init__(self, sleep):\n",
    "        super().__init__()\n",
    "        self.sleep = sleep\n",
    "        self.result = self.sleep\n",
    "    def run(self):\n",
    "        time.sleep(self.sleep)\n",
    "\n",
    "if __name__ == '__main__':\n",
    "#     cpu_n_iters = int(sys.argv[1])\n",
    "    cpu_n_iters = 3\n",
    "    \n",
    "    sleep = 1\n",
    "    cpu_count = multiprocessing.cpu_count()\n",
    "    input_params = [\n",
    "        (CpuThread, cpu_n_iters),\n",
    "        (CpuProcess, cpu_n_iters),\n",
    "        (IoThread, sleep),\n",
    "        (IoProcess, sleep),\n",
    "    ]\n",
    "    header = ['nthreads']\n",
    "    for thread_class, _ in input_params:\n",
    "        header.append(thread_class.__name__)\n",
    "    print(' '.join(header))\n",
    "    for nthreads in range(1, 2 * cpu_count):\n",
    "        results = [nthreads]\n",
    "        for thread_class, work_size in input_params:\n",
    "            start_time = time.time()\n",
    "            threads = []\n",
    "            for i in range(nthreads):\n",
    "                thread = thread_class(work_size)\n",
    "                threads.append(thread)\n",
    "                thread.start()\n",
    "            for i, thread in enumerate(threads):\n",
    "                thread.join()\n",
    "            results.append(time.time() - start_time)\n",
    "        print(' '.join('{:.6e}'.format(result) for result in results))"
   ]
  },
  {
   "cell_type": "code",
   "execution_count": null,
   "metadata": {},
   "outputs": [],
   "source": []
  }
 ],
 "metadata": {
  "kernelspec": {
   "display_name": "Python 3",
   "language": "python",
   "name": "python3"
  },
  "language_info": {
   "codemirror_mode": {
    "name": "ipython",
    "version": 3
   },
   "file_extension": ".py",
   "mimetype": "text/x-python",
   "name": "python",
   "nbconvert_exporter": "python",
   "pygments_lexer": "ipython3",
   "version": "3.7.1"
  }
 },
 "nbformat": 4,
 "nbformat_minor": 2
}
