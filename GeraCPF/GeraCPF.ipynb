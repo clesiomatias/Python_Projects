{
 "cells": [
  {
   "cell_type": "code",
   "execution_count": 42,
   "metadata": {},
   "outputs": [
    {
     "data": {
      "text/plain": [
       "[[5, 'SPADE'],\n",
       " [7, 'SPADE'],\n",
       " ['ACE', 'DIAMOND'],\n",
       " [7, 'HEART '],\n",
       " [9, 'HEART '],\n",
       " [4, 'HEART '],\n",
       " [2, 'DIAMOND'],\n",
       " [4, 'DIAMOND'],\n",
       " ['JACK', 'SPADE'],\n",
       " [8, 'SPADE'],\n",
       " [3, 'CLUB'],\n",
       " [8, 'DIAMOND'],\n",
       " [9, 'DIAMOND'],\n",
       " [6, 'CLUB'],\n",
       " ['ACE', 'HEART '],\n",
       " ['QUEEN', 'HEART '],\n",
       " [7, 'CLUB'],\n",
       " ['ACE', 'CLUB'],\n",
       " [9, 'CLUB'],\n",
       " [10, 'DIAMOND'],\n",
       " [3, 'SPADE'],\n",
       " [8, 'CLUB'],\n",
       " ['JACK', 'HEART '],\n",
       " [5, 'DIAMOND'],\n",
       " [5, 'CLUB'],\n",
       " [9, 'SPADE'],\n",
       " ['QUEEN', 'DIAMOND'],\n",
       " ['JACK', 'DIAMOND'],\n",
       " ['QUEEN', 'SPADE'],\n",
       " ['KING', 'DIAMOND'],\n",
       " ['QUEEN', 'CLUB'],\n",
       " [2, 'SPADE'],\n",
       " ['KING', 'SPADE'],\n",
       " ['KING', 'HEART '],\n",
       " [2, 'HEART '],\n",
       " [10, 'SPADE'],\n",
       " ['KING', 'CLUB'],\n",
       " [6, 'SPADE'],\n",
       " [10, 'HEART '],\n",
       " [10, 'CLUB'],\n",
       " ['JACK', 'CLUB'],\n",
       " [4, 'CLUB'],\n",
       " [7, 'DIAMOND'],\n",
       " [3, 'DIAMOND'],\n",
       " [8, 'HEART '],\n",
       " ['ACE', 'SPADE'],\n",
       " [6, 'DIAMOND'],\n",
       " [3, 'HEART '],\n",
       " [2, 'CLUB'],\n",
       " [5, 'HEART '],\n",
       " [6, 'HEART '],\n",
       " [4, 'SPADE']]"
      ]
     },
     "execution_count": 42,
     "metadata": {},
     "output_type": "execute_result"
    }
   ],
   "source": [
    "from random import shuffle\n",
    "\n",
    "# define the card ranks, and suits\n",
    "ranks = [_ for _ in range(2, 11)] + ['JACK', 'QUEEN', 'KING', 'ACE']\n",
    "suits = ['SPADE', 'HEART ', 'DIAMOND', 'CLUB']\n",
    "\n",
    "def get_deck():\n",
    "    \"\"\"Return a new deck of cards.\"\"\"\n",
    "\n",
    "    return [[rank, suit] for rank in ranks for suit in suits]\n",
    "\n",
    "# get a deck of cards, and randomly shuffle it\n",
    "deck = get_deck()\n",
    "shuffle(deck)\n",
    "\n",
    "deck"
   ]
  },
  {
   "cell_type": "code",
   "execution_count": 54,
   "metadata": {},
   "outputs": [
    {
     "name": "stdout",
     "output_type": "stream",
     "text": [
      "1aaaaa2aaaaa3aaaaa4aaaaa5aaaaa6aaaaa7aaaaa8aaaaa9aaaaa10aaaaa11aaaaa12aaaaa13aaaaa14aaaaa15aaaaa16aaaaa17aaaaa18aaaaa19aaaaa20aaaaa21aaaaa22aaaaa23aaaaa24aaaaa25aaaaa26aaaaa27aaaaa28aaaaa29aaaaa30aaaaa31aaaaa32aaaaa33aaaaa34aaaaa35aaaaa36aaaaa37aaaaa38aaaaa39aaaaa40aaaaa41aaaaa42aaaaa43aaaaa44aaaaa45aaaaa46aaaaa47aaaaa48aaaaa49aaaaa50aaaaa51aaaaa52aaaaa53aaaaa54aaaaa55aaaaa56aaaaa57aaaaa58aaaaa59aaaaa60aaaaa61aaaaa62aaaaa63aaaaa64aaaaa65aaaaa66aaaaa67aaaaa68aaaaa69aaaaa70aaaaa71aaaaa72aaaaa73aaaaa74aaaaa75aaaaa76aaaaa77aaaaa78aaaaa79aaaaa80aaaaa81aaaaa82aaaaa83aaaaa84aaaaa85aaaaa86aaaaa87aaaaa88aaaaa89aaaaa90aaaaa91aaaaa92aaaaa93aaaaa94aaaaa95aaaaa96aaaaa97aaaaa98aaaaa99aaaaa"
     ]
    }
   ],
   "source": [
    "for item in range(1,100):\n",
    "#     print(item)\n",
    "    print(item, end=\"aaaaa\")\n",
    "    "
   ]
  },
  {
   "cell_type": "code",
   "execution_count": 49,
   "metadata": {},
   "outputs": [
    {
     "name": "stdout",
     "output_type": "stream",
     "text": [
      "20\n"
     ]
    }
   ],
   "source": [
    "from sys import stdout\n",
    "from time import sleep\n",
    "for i in range(20,1,-1):\n",
    "    stdout.write(\"\\r%d\" % i)\n",
    "    stdout.flush()\n",
    "    sleep(1)\n",
    "stdout.write(\"\\n\") # move the cursor to the next line"
   ]
  },
  {
   "cell_type": "code",
   "execution_count": 55,
   "metadata": {},
   "outputs": [
    {
     "name": "stdout",
     "output_type": "stream",
     "text": [
      "12345678910111213141516171819202122232425262728293031323334353637"
     ]
    },
    {
     "ename": "KeyboardInterrupt",
     "evalue": "",
     "output_type": "error",
     "traceback": [
      "\u001b[0;31m---------------------------------------------------------------------------\u001b[0m",
      "\u001b[0;31mKeyboardInterrupt\u001b[0m                         Traceback (most recent call last)",
      "\u001b[0;32m<ipython-input-55-f1d7a536c6cc>\u001b[0m in \u001b[0;36m<module>\u001b[0;34m\u001b[0m\n\u001b[1;32m      4\u001b[0m \u001b[0;34m\u001b[0m\u001b[0m\n\u001b[1;32m      5\u001b[0m     \u001b[0mprint\u001b[0m\u001b[0;34m(\u001b[0m\u001b[0mitem\u001b[0m\u001b[0;34m,\u001b[0m \u001b[0msep\u001b[0m\u001b[0;34m=\u001b[0m\u001b[0;34m' '\u001b[0m\u001b[0;34m,\u001b[0m \u001b[0mend\u001b[0m\u001b[0;34m=\u001b[0m\u001b[0;34m''\u001b[0m\u001b[0;34m,\u001b[0m \u001b[0mflush\u001b[0m\u001b[0;34m=\u001b[0m\u001b[0;32mTrue\u001b[0m\u001b[0;34m)\u001b[0m\u001b[0;34m\u001b[0m\u001b[0;34m\u001b[0m\u001b[0m\n\u001b[0;32m----> 6\u001b[0;31m     \u001b[0msleep\u001b[0m\u001b[0;34m(\u001b[0m\u001b[0;36m1\u001b[0m\u001b[0;34m)\u001b[0m\u001b[0;34m\u001b[0m\u001b[0;34m\u001b[0m\u001b[0m\n\u001b[0m",
      "\u001b[0;31mKeyboardInterrupt\u001b[0m: "
     ]
    }
   ],
   "source": [
    "for item in range(1,100):\n",
    "#     print(item)\n",
    "#     print(item, end=\"aaaaa\")\n",
    "    \n",
    "    print(item, sep=' ', end='', flush=True)\n",
    "    sleep(1)"
   ]
  },
  {
   "cell_type": "code",
   "execution_count": null,
   "metadata": {},
   "outputs": [],
   "source": []
  }
 ],
 "metadata": {
  "kernelspec": {
   "display_name": "Python 3",
   "language": "python",
   "name": "python3"
  },
  "language_info": {
   "codemirror_mode": {
    "name": "ipython",
    "version": 3
   },
   "file_extension": ".py",
   "mimetype": "text/x-python",
   "name": "python",
   "nbconvert_exporter": "python",
   "pygments_lexer": "ipython3",
   "version": "3.7.1"
  }
 },
 "nbformat": 4,
 "nbformat_minor": 2
}
