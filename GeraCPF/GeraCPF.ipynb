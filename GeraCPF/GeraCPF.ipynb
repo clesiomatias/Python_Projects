{
 "cells": [
  {
   "cell_type": "code",
   "execution_count": 42,
   "metadata": {},
   "outputs": [
    {
     "data": {
      "text/plain": [
       "[[5, 'SPADE'],\n",
       " [7, 'SPADE'],\n",
       " ['ACE', 'DIAMOND'],\n",
       " [7, 'HEART '],\n",
       " [9, 'HEART '],\n",
       " [4, 'HEART '],\n",
       " [2, 'DIAMOND'],\n",
       " [4, 'DIAMOND'],\n",
       " ['JACK', 'SPADE'],\n",
       " [8, 'SPADE'],\n",
       " [3, 'CLUB'],\n",
       " [8, 'DIAMOND'],\n",
       " [9, 'DIAMOND'],\n",
       " [6, 'CLUB'],\n",
       " ['ACE', 'HEART '],\n",
       " ['QUEEN', 'HEART '],\n",
       " [7, 'CLUB'],\n",
       " ['ACE', 'CLUB'],\n",
       " [9, 'CLUB'],\n",
       " [10, 'DIAMOND'],\n",
       " [3, 'SPADE'],\n",
       " [8, 'CLUB'],\n",
       " ['JACK', 'HEART '],\n",
       " [5, 'DIAMOND'],\n",
       " [5, 'CLUB'],\n",
       " [9, 'SPADE'],\n",
       " ['QUEEN', 'DIAMOND'],\n",
       " ['JACK', 'DIAMOND'],\n",
       " ['QUEEN', 'SPADE'],\n",
       " ['KING', 'DIAMOND'],\n",
       " ['QUEEN', 'CLUB'],\n",
       " [2, 'SPADE'],\n",
       " ['KING', 'SPADE'],\n",
       " ['KING', 'HEART '],\n",
       " [2, 'HEART '],\n",
       " [10, 'SPADE'],\n",
       " ['KING', 'CLUB'],\n",
       " [6, 'SPADE'],\n",
       " [10, 'HEART '],\n",
       " [10, 'CLUB'],\n",
       " ['JACK', 'CLUB'],\n",
       " [4, 'CLUB'],\n",
       " [7, 'DIAMOND'],\n",
       " [3, 'DIAMOND'],\n",
       " [8, 'HEART '],\n",
       " ['ACE', 'SPADE'],\n",
       " [6, 'DIAMOND'],\n",
       " [3, 'HEART '],\n",
       " [2, 'CLUB'],\n",
       " [5, 'HEART '],\n",
       " [6, 'HEART '],\n",
       " [4, 'SPADE']]"
      ]
     },
     "execution_count": 42,
     "metadata": {},
     "output_type": "execute_result"
    }
   ],
   "source": [
    "from random import shuffle\n",
    "\n",
    "# define the card ranks, and suits\n",
    "ranks = [_ for _ in range(2, 11)] + ['JACK', 'QUEEN', 'KING', 'ACE']\n",
    "suits = ['SPADE', 'HEART ', 'DIAMOND', 'CLUB']\n",
    "\n",
    "def get_deck():\n",
    "    \"\"\"Return a new deck of cards.\"\"\"\n",
    "\n",
    "    return [[rank, suit] for rank in ranks for suit in suits]\n",
    "\n",
    "# get a deck of cards, and randomly shuffle it\n",
    "deck = get_deck()\n",
    "shuffle(deck)\n",
    "\n",
    "deck"
   ]
  },
  {
   "cell_type": "code",
   "execution_count": null,
   "metadata": {},
   "outputs": [],
   "source": []
  },
  {
   "cell_type": "code",
   "execution_count": null,
   "metadata": {},
   "outputs": [],
   "source": []
  },
  {
   "cell_type": "code",
   "execution_count": null,
   "metadata": {},
   "outputs": [],
   "source": []
  },
  {
   "cell_type": "code",
   "execution_count": null,
   "metadata": {},
   "outputs": [],
   "source": []
  }
 ],
 "metadata": {
  "kernelspec": {
   "display_name": "Python 3",
   "language": "python",
   "name": "python3"
  },
  "language_info": {
   "codemirror_mode": {
    "name": "ipython",
    "version": 3
   },
   "file_extension": ".py",
   "mimetype": "text/x-python",
   "name": "python",
   "nbconvert_exporter": "python",
   "pygments_lexer": "ipython3",
   "version": "3.7.1"
  }
 },
 "nbformat": 4,
 "nbformat_minor": 2
}
